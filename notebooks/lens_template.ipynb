{
 "cells": [
  {
   "cell_type": "markdown",
   "metadata": {},
   "source": [
    "# CESM-LE analysis template\n",
    " - analysis should be performed on Casper\n",
    " - works with either CESM1 or CESM2 (only historical at this point)\n",
    " - daniel kennedy, djk2120@ucar.edu"
   ]
  },
  {
   "cell_type": "code",
   "execution_count": 1,
   "metadata": {},
   "outputs": [],
   "source": [
    "import numpy as np\n",
    "import xarray as xr\n",
    "import glob\n",
    "import matplotlib\n",
    "import matplotlib.pyplot as plt\n",
    "import cftime\n",
    "import dask\n",
    "import os\n",
    "from scipy import stats\n",
    "%matplotlib inline"
   ]
  },
  {
   "cell_type": "code",
   "execution_count": 45,
   "metadata": {},
   "outputs": [
    {
     "data": {
      "text/plain": [
       "'0.16.2'"
      ]
     },
     "execution_count": 45,
     "metadata": {},
     "output_type": "execute_result"
    }
   ],
   "source": [
    "## was working with 16.2\n",
    "xr.__version__"
   ]
  },
  {
   "cell_type": "code",
   "execution_count": 44,
   "metadata": {},
   "outputs": [
    {
     "data": {
      "text/plain": [
       "'2020.12.0'"
      ]
     },
     "execution_count": 44,
     "metadata": {},
     "output_type": "execute_result"
    }
   ],
   "source": [
    "## was working with 2020.12.0\n",
    "dask.__version__"
   ]
  },
  {
   "cell_type": "markdown",
   "metadata": {},
   "source": [
    "### run this cell to check if you have LENS2 read access:"
   ]
  },
  {
   "cell_type": "code",
   "execution_count": 43,
   "metadata": {},
   "outputs": [
    {
     "name": "stdout",
     "output_type": "stream",
     "text": [
      "looks good\n"
     ]
    }
   ],
   "source": [
    "samplefile = ('/glade/campaign/cesm/collections/CESM2-LE/archive/b.e21.BHISTcmip6.f09_g17.LE2-1001.001/'+\n",
    "              'lnd/proc/tseries/month_1/b.e21.BHISTcmip6.f09_g17.LE2-1001.001.clm2.h0.NBP.199001-199912.nc')\n",
    "cmd = 'stat '+samplefile\n",
    "if os.system(cmd)!=0:\n",
    "    print('you may not have access')\n",
    "else:\n",
    "    print('looks good')"
   ]
  },
  {
   "cell_type": "markdown",
   "metadata": {},
   "source": [
    "### Fetch cluster"
   ]
  },
  {
   "cell_type": "code",
   "execution_count": 4,
   "metadata": {},
   "outputs": [],
   "source": [
    "#for use on Casper: ONLY RUN THIS CELL ONCE  \n",
    "#   note you may need to change the project number\n",
    "ncores = 36\n",
    "nmem   = str(int(375*ncores/36))+'GB'\n",
    "from dask_jobqueue import SLURMCluster\n",
    "from dask.distributed import Client\n",
    "cluster = SLURMCluster(cores=ncores,\n",
    "                     processes=ncores, memory=nmem,\n",
    "                     project='P93300641',\n",
    "                     walltime='3:00:00')\n",
    "cluster.scale(ncores)\n",
    "client = Client(cluster)"
   ]
  },
  {
   "cell_type": "code",
   "execution_count": 48,
   "metadata": {},
   "outputs": [
    {
     "data": {
      "text/html": [
       "<table style=\"border: 2px solid white;\">\n",
       "<tr>\n",
       "<td style=\"vertical-align: top; border: 0px solid white\">\n",
       "<h3 style=\"text-align: left;\">Client</h3>\n",
       "<ul style=\"text-align: left; list-style: none; margin: 0; padding: 0;\">\n",
       "  <li><b>Scheduler: </b>tcp://10.12.205.27:43267</li>\n",
       "  <li><b>Dashboard: </b><a href='http://10.12.205.27:8787/status' target='_blank'>http://10.12.205.27:8787/status</a></li>\n",
       "</ul>\n",
       "</td>\n",
       "<td style=\"vertical-align: top; border: 0px solid white\">\n",
       "<h3 style=\"text-align: left;\">Cluster</h3>\n",
       "<ul style=\"text-align: left; list-style:none; margin: 0; padding: 0;\">\n",
       "  <li><b>Workers: </b>36</li>\n",
       "  <li><b>Cores: </b>36</li>\n",
       "  <li><b>Memory: </b>375.12 GB</li>\n",
       "</ul>\n",
       "</td>\n",
       "</tr>\n",
       "</table>"
      ],
      "text/plain": [
       "<Client: 'tcp://10.12.205.27:43267' processes=36 threads=36, memory=375.12 GB>"
      ]
     },
     "execution_count": 48,
     "metadata": {},
     "output_type": "execute_result"
    }
   ],
   "source": [
    "# the extra workers can get stuck in the queue\n",
    "#   stay here (rerunning cell) until you see that the workers>0\n",
    "client"
   ]
  },
  {
   "cell_type": "markdown",
   "metadata": {},
   "source": [
    "### Some helpful functions:\n",
    " - run all these before proceeding to the 'start here' area:\n",
    " - you can certainly edit these, but shouldn't need to"
   ]
  },
  {
   "cell_type": "code",
   "execution_count": 6,
   "metadata": {},
   "outputs": [],
   "source": [
    "def get_file(ee,model,field,yr):\n",
    "    ''' Returns a given field from ensemble number ee for either CESM1 or CESM2'''\n",
    "    if model == 'CESM1':\n",
    "        topdir = ('/glade/collections/cdg/data/cesmLE/CESM-CAM5-BGC-LE/'+\n",
    "                  'lnd/proc/tseries/monthly/')\n",
    "        matchme = 'b.e11.B20TRC5CNBDRD.f09_g16.'\n",
    "        lenskey = list(1+np.arange(35))+list(101+np.arange(7))\n",
    "        nn      = lenskey[ee]\n",
    "        ff = glob.glob(topdir+field+'/'+matchme+str(nn).zfill(3)+'*.nc')[0]\n",
    "    else:\n",
    "        topdir = '/glade/campaign/cesm/collections/CESM2-LE/archive/'\n",
    "        mlist = sorted(glob.glob(topdir+'*BHISTcmip6.f09_g17*'))\n",
    "        mm = mlist[ee]\n",
    "        lnd    = '/lnd/proc/tseries/month_1/'\n",
    "        firstyear = 10*int(yr/10)\n",
    "        yy    = '.'+str(firstyear)+'01-'+str(firstyear+9)+'12.'\n",
    "        if yr>2009:\n",
    "            yy = '.201001-201412.'\n",
    "        ff     = glob.glob(mm+lnd+'*.h0.'+field+yy+'*')[0]\n",
    "    return ff"
   ]
  },
  {
   "cell_type": "code",
   "execution_count": 7,
   "metadata": {},
   "outputs": [],
   "source": [
    "def all_files(model,field,firstyear):\n",
    "    ''' Returns all files for either CESM1 or CESM2, starting at firstyear'''\n",
    "    if model == 'CESM1':\n",
    "        nens = 42\n",
    "        files = [get_file(ee,'CESM1',field,0) for ee in range(nens)]\n",
    "    else:\n",
    "        nens = 50\n",
    "        yrs = [*np.arange(firstyear,2009,10),2010]\n",
    "        files = [[get_file(ee,'CESM2',field,yr) for yr in yrs] \n",
    "                 for ee in range(nens)]\n",
    "    return files"
   ]
  },
  {
   "cell_type": "code",
   "execution_count": 8,
   "metadata": {},
   "outputs": [],
   "source": [
    "def get_monthly(model,fields,firstyear):\n",
    "    first = True\n",
    "    \n",
    "    for field in fields:\n",
    "        #find the appropriate files\n",
    "        files = all_files(model,field,firstyear)\n",
    "        \n",
    "        #instantiation steps only required once\n",
    "        if first:\n",
    "            first = False\n",
    "            # set up ensemble dimensions\n",
    "            ensdim  = xr.DataArray(np.arange(len(files)), dims='ens', name='ens')\n",
    "            ensdim.attrs['long_name']='ensemble number'\n",
    "            concat_dim = {'CESM1':ensdim,'CESM2':[ensdim,'time']}\n",
    "            \n",
    "            # instantiate ds\n",
    "            if model=='CESM2':\n",
    "                # LENS2 is split by decade, take only 1 copy of landfrac,area, etc.\n",
    "                ds = xr.open_mfdataset(files[0],combine='by_coords',parallel=True)\n",
    "                tmp = xr.open_dataset(files[0][0])\n",
    "                for thisvar in tmp.data_vars:\n",
    "                    if 'time' not in tmp[thisvar].coords:\n",
    "                        ds[thisvar]=tmp[thisvar]\n",
    "            else:\n",
    "                ds = xr.open_dataset(files[0])\n",
    "\n",
    "        tmp = xr.open_mfdataset(files,combine='nested',parallel=True,\n",
    "                                concat_dim=concat_dim[model])\n",
    "        ds[field] = tmp[field]\n",
    "\n",
    "    ds['landarea'] = ds['area']*ds['landfrac']\n",
    "    ds['landarea'].name = 'landarea'\n",
    "    ds['landarea'].attrs['units'] = 'km2'\n",
    "        \n",
    "    nmonths = len(ds.time)\n",
    "    yr0 = ds['time.year'][0].values\n",
    "    ds['time'] =xr.cftime_range(str(yr0),periods=nmonths,freq='MS')\n",
    "    ix = ds['time.year']>=firstyear\n",
    "\n",
    "    with dask.config.set(**{'array.slicing.split_large_chunks': False}):\n",
    "        return ds.isel(time=ix)"
   ]
  },
  {
   "cell_type": "code",
   "execution_count": 56,
   "metadata": {},
   "outputs": [],
   "source": [
    "def month_wts(nyears):\n",
    "    days_pm  = [31,28,31,30,31,30,31,31,30,31,30,31]\n",
    "    return xr.DataArray(np.tile(days_pm,nyears),dims='time')"
   ]
  },
  {
   "cell_type": "code",
   "execution_count": 57,
   "metadata": {},
   "outputs": [],
   "source": [
    "# colorbrewer colormap, diverging, brown->green\n",
    "ccc = np.zeros([11,3]);\n",
    "ccc[0,:] = 84,48,5\n",
    "ccc[1,:] = 140,81,10\n",
    "ccc[2,:] = 191,129,45\n",
    "ccc[3,:] = 223,194,125\n",
    "ccc[4,:] = 246,232,195\n",
    "ccc[5,:] = 245,245,245\n",
    "ccc[6,:] = 199,234,229\n",
    "ccc[7,:] = 128,205,193\n",
    "ccc[8,:] = 53,151,143\n",
    "ccc[9,:] = 1,102,94\n",
    "ccc[10,:] = 0,60,48\n",
    "ccc = matplotlib.colors.ListedColormap(ccc/256)"
   ]
  },
  {
   "cell_type": "markdown",
   "metadata": {},
   "source": [
    "# Start editing here:\n",
    " - note: you don't have to %%time things\n",
    "     - just wanted to give a sense of how long various steps take for me"
   ]
  },
  {
   "cell_type": "markdown",
   "metadata": {},
   "source": [
    "### read in the data:\n",
    " - the less data you take, the faster this will run"
   ]
  },
  {
   "cell_type": "code",
   "execution_count": 79,
   "metadata": {},
   "outputs": [
    {
     "name": "stdout",
     "output_type": "stream",
     "text": [
      "CPU times: user 1min 12s, sys: 15 s, total: 1min 27s\n",
      "Wall time: 1min 31s\n"
     ]
    }
   ],
   "source": [
    "%%time\n",
    "model = 'CESM2'\n",
    "fields = ['GPP','TWS']  # always brackets, fields = ['GPP']\n",
    "firstyear = 1850\n",
    "ds = get_monthly(model,fields,firstyear)"
   ]
  },
  {
   "cell_type": "markdown",
   "metadata": {},
   "source": [
    "## sample analyses:"
   ]
  },
  {
   "cell_type": "markdown",
   "metadata": {},
   "source": [
    "### global annual GPP"
   ]
  },
  {
   "cell_type": "code",
   "execution_count": 82,
   "metadata": {},
   "outputs": [],
   "source": [
    "#compute annual total GPP\n",
    "nyears  = len(np.unique(ds['time.year']))\n",
    "cf = 24*60*60           # used to convert /s to /d\n",
    "dpm = month_wts(nyears) # days per month\n",
    "gpp_ann = cf*(dpm*ds.GPP).groupby('time.year').sum(skipna=True) # gridded annual total gpp"
   ]
  },
  {
   "cell_type": "code",
   "execution_count": 84,
   "metadata": {},
   "outputs": [
    {
     "data": {
      "image/png": "[encoded data removed]",
      "text/plain": [
       "<Figure size 432x288 with 2 Axes>"
      ]
     },
     "metadata": {
      "needs_background": "light"
     },
     "output_type": "display_data"
    }
   ],
   "source": [
    "# plot one year from one ensemble member\n",
    "#   where statement masks the ocean\n",
    "gpp_ann.sel(ens=0,year=2000).where(ds.landarea>0).plot(cbar_kwargs={'label':'GPP (gC/m2/yr)'});"
   ]
  },
  {
   "cell_type": "code",
   "execution_count": 85,
   "metadata": {},
   "outputs": [],
   "source": [
    "# sum across gridcells, weighting by landarea\n",
    "cf1 = 1e6    #km2-->m2\n",
    "cf2 = 1e-15  #gC-->PgC and kgH2O-->TtH2O\n",
    "gpp_ann_glob = cf1*cf2*(ds.landarea*gpp_ann).sum(dim=['lat','lon'])"
   ]
  },
  {
   "cell_type": "code",
   "execution_count": 86,
   "metadata": {},
   "outputs": [
    {
     "name": "stdout",
     "output_type": "stream",
     "text": [
      "CPU times: user 1min 38s, sys: 1.73 s, total: 1min 40s\n",
      "Wall time: 1min 42s\n"
     ]
    }
   ],
   "source": [
    "%%time\n",
    "##  force the calculation:\n",
    "##     xarray uses lazy evaluation, avoiding crunching the numbers \n",
    "##     up to this point, I haven't actually done any calculations!\n",
    "##     xarray waits until I explicitly require it to do so\n",
    "##     best to do this ahead of plotting for big calculations\n",
    "##  Note that if you plan on reusing an intermediate result:\n",
    "##     e.g. annual averages, \n",
    "##     you should probably force the calc and save it at that step\n",
    "##  If you see files like core-casper25- appearing, you have an issue\n",
    "gpp_ann_glob = gpp_ann_glob.compute()"
   ]
  },
  {
   "cell_type": "code",
   "execution_count": 87,
   "metadata": {},
   "outputs": [
    {
     "data": {
      "image/png": "[encoded data removed]",
      "text/plain": [
       "<Figure size 432x288 with 1 Axes>"
      ]
     },
     "metadata": {
      "needs_background": "light"
     },
     "output_type": "display_data"
    }
   ],
   "source": [
    "t = np.unique(ds['time.year'])\n",
    "plt.plot(t,gpp_ann_glob,'.',color=[0.6,0.6,0.6])\n",
    "plt.xlabel('year')\n",
    "plt.ylabel('GPP (PgC)')\n",
    "plt.title('CESM2-LE (50 members)');"
   ]
  }
 ],
 "metadata": {
  "kernelspec": {
   "display_name": "Python [conda env:lens-py]",
   "language": "python",
   "name": "conda-env-lens-py-py"
  },
  "language_info": {
   "codemirror_mode": {
    "name": "ipython",
    "version": 3
   },
   "file_extension": ".py",
   "mimetype": "text/x-python",
   "name": "python",
   "nbconvert_exporter": "python",
   "pygments_lexer": "ipython3",
   "version": "3.7.9"
  }
 },
 "nbformat": 4,
 "nbformat_minor": 4
}
