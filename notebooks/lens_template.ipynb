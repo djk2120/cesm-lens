{
 "cells": [
  {
   "cell_type": "markdown",
   "metadata": {},
   "source": [
    "# CESM-LE analysis template\n",
    " - analysis should be performed on Casper\n",
    " - works with historical and SSP (only CESM2 at this point)\n",
    " - daniel kennedy, djk2120@ucar.edu"
   ]
  },
  {
   "cell_type": "code",
   "execution_count": 15,
   "metadata": {},
   "outputs": [],
   "source": [
    "import numpy as np\n",
    "import xarray as xr\n",
    "import glob\n",
    "import matplotlib\n",
    "import matplotlib.pyplot as plt\n",
    "import cftime\n",
    "import dask\n",
    "import os\n",
    "from scipy import stats\n",
    "%matplotlib inline"
   ]
  },
  {
   "cell_type": "code",
   "execution_count": 2,
   "metadata": {},
   "outputs": [
    {
     "data": {
      "text/plain": [
       "'0.16.2'"
      ]
     },
     "execution_count": 2,
     "metadata": {},
     "output_type": "execute_result"
    }
   ],
   "source": [
    "## was working with 16.2\n",
    "xr.__version__"
   ]
  },
  {
   "cell_type": "code",
   "execution_count": 3,
   "metadata": {},
   "outputs": [
    {
     "data": {
      "text/plain": [
       "'2020.12.0'"
      ]
     },
     "execution_count": 3,
     "metadata": {},
     "output_type": "execute_result"
    }
   ],
   "source": [
    "## was working with 2020.12.0\n",
    "dask.__version__"
   ]
  },
  {
   "cell_type": "markdown",
   "metadata": {},
   "source": [
    "### run this cell to check if you have LENS2 read access:"
   ]
  },
  {
   "cell_type": "code",
   "execution_count": 5,
   "metadata": {},
   "outputs": [
    {
     "name": "stdout",
     "output_type": "stream",
     "text": [
      "looks good\n"
     ]
    }
   ],
   "source": [
    "samplefile = ('/glade/campaign/cesm/collections/CESM2-LE/archive/b.e21.BHISTcmip6.f09_g17.LE2-1001.001/'+\n",
    "              'lnd/proc/tseries/month_1/b.e21.BHISTcmip6.f09_g17.LE2-1001.001.clm2.h0.NBP.199001-199912.nc')\n",
    "cmd = 'stat '+samplefile\n",
    "if os.system(cmd)!=0:\n",
    "    print('you may not have access')\n",
    "else:\n",
    "    print('looks good')"
   ]
  },
  {
   "cell_type": "markdown",
   "metadata": {},
   "source": [
    "### Fetch cluster"
   ]
  },
  {
   "cell_type": "code",
   "execution_count": 6,
   "metadata": {},
   "outputs": [],
   "source": [
    "#for use on Casper: ONLY RUN THIS CELL ONCE  \n",
    "#   note you may need to change the project number\n",
    "ncores = 36\n",
    "nmem   = str(int(375*ncores/36))+'GB'\n",
    "from dask_jobqueue import SLURMCluster\n",
    "from dask.distributed import Client\n",
    "cluster = SLURMCluster(cores=ncores,\n",
    "                     processes=ncores, memory=nmem,\n",
    "                     project='P93300641',\n",
    "                     walltime='2:00:00')\n",
    "cluster.scale(ncores)\n",
    "client = Client(cluster)"
   ]
  },
  {
   "cell_type": "code",
   "execution_count": 16,
   "metadata": {},
   "outputs": [
    {
     "data": {
      "text/html": [
       "<table style=\"border: 2px solid white;\">\n",
       "<tr>\n",
       "<td style=\"vertical-align: top; border: 0px solid white\">\n",
       "<h3 style=\"text-align: left;\">Client</h3>\n",
       "<ul style=\"text-align: left; list-style: none; margin: 0; padding: 0;\">\n",
       "  <li><b>Scheduler: </b>tcp://10.12.205.28:44969</li>\n",
       "  <li><b>Dashboard: </b><a href='http://10.12.205.28:8787/status' target='_blank'>http://10.12.205.28:8787/status</a></li>\n",
       "</ul>\n",
       "</td>\n",
       "<td style=\"vertical-align: top; border: 0px solid white\">\n",
       "<h3 style=\"text-align: left;\">Cluster</h3>\n",
       "<ul style=\"text-align: left; list-style:none; margin: 0; padding: 0;\">\n",
       "  <li><b>Workers: </b>36</li>\n",
       "  <li><b>Cores: </b>36</li>\n",
       "  <li><b>Memory: </b>375.12 GB</li>\n",
       "</ul>\n",
       "</td>\n",
       "</tr>\n",
       "</table>"
      ],
      "text/plain": [
       "<Client: 'tcp://10.12.205.28:44969' processes=36 threads=36, memory=375.12 GB>"
      ]
     },
     "execution_count": 16,
     "metadata": {},
     "output_type": "execute_result"
    }
   ],
   "source": [
    "# the extra workers can get stuck in the queue\n",
    "#   stay here (rerunning cell) until you see that the workers>0\n",
    "client"
   ]
  },
  {
   "cell_type": "markdown",
   "metadata": {},
   "source": [
    "### Some helpful functions:\n",
    " - run all these before proceeding to the 'start here' area:\n",
    " - you can certainly edit these, but shouldn't need to"
   ]
  },
  {
   "cell_type": "code",
   "execution_count": 17,
   "metadata": {},
   "outputs": [],
   "source": [
    "def get_members(model):\n",
    "    members = []\n",
    "    if model =='CESM2':\n",
    "        for i,j in zip(1001+20*np.arange(10),1+np.arange(10)):\n",
    "            s = 'LE2-'+str(i)+'.'+str(j).zfill(3)\n",
    "            members.append(s)\n",
    "        for i in [1231,1251,1281,1301]:\n",
    "            for j in 1+np.arange(10):\n",
    "                s = 'LE2-'+str(i)+'.'+str(j).zfill(3)\n",
    "                members.append(s)\n",
    "    return members"
   ]
  },
  {
   "cell_type": "code",
   "execution_count": 19,
   "metadata": {},
   "outputs": [],
   "source": [
    "def get_file(ee,model,field,yr):\n",
    "    ''' Returns a given field from ensemble number ee for either CESM1 or CESM2'''\n",
    "    if model == 'CESM1':\n",
    "        print('TBD')\n",
    "    elif model == 'CESM2':\n",
    "        members = get_members(model)\n",
    "        member  = members[ee]\n",
    "\n",
    "        topdir    = '/glade/campaign/cesm/collections/CESM2-LE/archive/'\n",
    "        hist      = 'b.e21.BHISTcmip6.f09_g17.'\n",
    "        ssp       = 'b.e21.BSSP370cmip6.f09_g17.'\n",
    "        land      = '/lnd/proc/tseries/'\n",
    "        monthly   = 'month_1/'\n",
    "\n",
    "        if yr<2010:\n",
    "            yr1 = 10*int(yr/10)\n",
    "            yy    = '.'+str(yr1)+'01-'+str(yr1+9)+'12.'\n",
    "            runtype = hist\n",
    "        elif np.logical_and(yr>=2010,yr<2015):\n",
    "            yy = '.201001-201412.'\n",
    "            runtype = hist\n",
    "        elif yr>2094:\n",
    "            yy = '.209501-210012.'\n",
    "            runtype = ssp\n",
    "        else:\n",
    "            yr1 = 10*int((yr-5)/10)+5\n",
    "            yy    = '.'+str(yr1)+'01-'+str(yr1+9)+'12.'\n",
    "            runtype = ssp\n",
    "\n",
    "        thisdir  = topdir+runtype+member+land+monthly\n",
    "        thisfile = runtype+member+'.clm2.h0.'+field+yy+'nc'\n",
    "        fullpath = thisdir+thisfile\n",
    "\n",
    "        return fullpath"
   ]
  },
  {
   "cell_type": "code",
   "execution_count": 56,
   "metadata": {},
   "outputs": [],
   "source": [
    "def all_files(model,ens,field,firstyear,lastyear):\n",
    "    ''' Returns all files for either CESM1 or CESM2, starting at firstyear'''\n",
    "    \n",
    "    if model =='CESM2':\n",
    "        nens = 50\n",
    "        hist = np.arange(1850,2011,10)\n",
    "        ssp  = np.arange(2015,2096,10)\n",
    "        fullset  = np.array([*hist,*ssp])\n",
    "        ix = np.logical_and(fullset>=firstyear,fullset<=lastyear)\n",
    "        yrs = fullset[ix]\n",
    "        \n",
    "        files = [[get_file(ee,model,field,yr) for yr in yrs] \n",
    "                 for ee in ens]\n",
    "    return files"
   ]
  },
  {
   "cell_type": "code",
   "execution_count": 35,
   "metadata": {},
   "outputs": [],
   "source": [
    "def get_monthly(model,ens,fields,firstyear,lastyear):\n",
    "    first = True\n",
    "    soildim = {'CESM1':'levgrnd','CESM2':'levsoi'}\n",
    "    for field in fields:\n",
    "        #find the appropriate files\n",
    "        if field=='SW':\n",
    "            #SW is a derived field, summing across soilliq\n",
    "            readfield = 'SOILLIQ'\n",
    "        else:\n",
    "            readfield = field\n",
    "        files = all_files(model,ens,readfield,firstyear,lastyear)\n",
    "        \n",
    "        #instantiation steps only required once\n",
    "        if first:\n",
    "            first = False\n",
    "            # set up ensemble dimensions\n",
    "            ensdim  = xr.DataArray(np.arange(len(files)), dims='ens', name='ens')\n",
    "            ensdim.attrs['long_name']='ensemble number'\n",
    "            concat_dim = {'CESM1':ensdim,'CESM2':[ensdim,'time']}\n",
    "            \n",
    "            # instantiate ds\n",
    "            if model=='CESM2':\n",
    "                # LENS2 is split by decade, take only 1 copy of landfrac,area, etc.\n",
    "                ds = xr.open_mfdataset(files[0],combine='by_coords',parallel=True)\n",
    "                tmp = xr.open_dataset(files[0][0])\n",
    "                for thisvar in tmp.data_vars:\n",
    "                    if 'time' not in tmp[thisvar].coords:\n",
    "                        with dask.config.set(**{'array.slicing.split_large_chunks': False}):\n",
    "                            ds[thisvar]=tmp[thisvar]\n",
    "            else:\n",
    "                ds = xr.open_dataset(files[0])\n",
    "\n",
    "        tmp = xr.open_mfdataset(files,combine='nested',parallel=True,\n",
    "                                concat_dim=concat_dim[model],chunks={'time':90})\n",
    "        if field=='SW':\n",
    "            # SW\n",
    "            ds[field] = tmp['SOILLIQ'].sum(dim=soildim[model])\n",
    "        else:\n",
    "            ds[field] = tmp[field]\n",
    "\n",
    "    ds['landarea'] = ds['area']*ds['landfrac']\n",
    "    ds['landarea'].name = 'landarea'\n",
    "    ds['landarea'].attrs['units'] = 'km2'\n",
    "        \n",
    "    nmonths = len(ds.time)\n",
    "    yr0 = ds['time.year'][0].values\n",
    "    ds['time'] =xr.cftime_range(str(yr0),periods=nmonths,freq='MS')\n",
    "    ix = np.logical_and(ds['time.year']>=firstyear,ds['time.year']<=lastyear)\n",
    "                        \n",
    "    with dask.config.set(**{'array.slicing.split_large_chunks': False}):\n",
    "        return ds.isel(time=ix)\n"
   ]
  },
  {
   "cell_type": "code",
   "execution_count": 22,
   "metadata": {},
   "outputs": [],
   "source": [
    "def month_wts(nyears):\n",
    "    days_pm  = [31,28,31,30,31,30,31,31,30,31,30,31]\n",
    "    return xr.DataArray(np.tile(days_pm,nyears),dims='time')"
   ]
  },
  {
   "cell_type": "markdown",
   "metadata": {},
   "source": [
    "# Start editing here:\n",
    " - note: you don't have to %%time things\n",
    "     - just wanted to give a sense of how long various steps take for me"
   ]
  },
  {
   "cell_type": "markdown",
   "metadata": {},
   "source": [
    "### read in the data:\n",
    " - the less data you take, the faster this will run"
   ]
  },
  {
   "cell_type": "code",
   "execution_count": 36,
   "metadata": {},
   "outputs": [
    {
     "name": "stdout",
     "output_type": "stream",
     "text": [
      "CPU times: user 7.13 s, sys: 163 ms, total: 7.29 s\n",
      "Wall time: 7.86 s\n"
     ]
    }
   ],
   "source": [
    "%%time\n",
    "model = 'CESM2'\n",
    "ens = np.arange(50)     #read in all 50 ensemble members\n",
    "fields = ['GPP','TWS']  # always brackets, fields = ['GPP']\n",
    "firstyear = 1985\n",
    "lastyear  = 2015\n",
    "\n",
    "ds = get_monthly(model,ens,fields,firstyear,lastyear)"
   ]
  },
  {
   "cell_type": "markdown",
   "metadata": {},
   "source": [
    "## sample analyses:"
   ]
  },
  {
   "cell_type": "markdown",
   "metadata": {},
   "source": [
    "### global annual GPP"
   ]
  },
  {
   "cell_type": "code",
   "execution_count": 28,
   "metadata": {},
   "outputs": [],
   "source": [
    "#compute annual total GPP\n",
    "nyears  = len(np.unique(ds['time.year']))\n",
    "cf = 24*60*60           # used to convert /s to /d\n",
    "dpm = month_wts(nyears) # days per month\n",
    "gpp_ann = cf*(dpm*ds.GPP).groupby('time.year').sum(skipna=True) # gridded annual total gpp"
   ]
  },
  {
   "cell_type": "code",
   "execution_count": 29,
   "metadata": {},
   "outputs": [
    {
     "data": {
      "image/png": "[encoded data removed]",
      "text/plain": [
       "<Figure size 432x288 with 2 Axes>"
      ]
     },
     "metadata": {
      "needs_background": "light"
     },
     "output_type": "display_data"
    }
   ],
   "source": [
    "# plot one year from one ensemble member\n",
    "#   where statement masks the ocean\n",
    "gpp_ann.sel(ens=0,year=2000).where(ds.landarea>0).plot(cbar_kwargs={'label':'GPP (gC/m2/yr)'});"
   ]
  },
  {
   "cell_type": "code",
   "execution_count": 30,
   "metadata": {},
   "outputs": [],
   "source": [
    "# sum across gridcells, weighting by landarea\n",
    "cf1 = 1e6    #km2-->m2\n",
    "cf2 = 1e-15  #gC-->PgC and kgH2O-->TtH2O\n",
    "gpp_ann_glob = cf1*cf2*(ds.landarea*gpp_ann).sum(dim=['lat','lon'])"
   ]
  },
  {
   "cell_type": "code",
   "execution_count": 31,
   "metadata": {},
   "outputs": [
    {
     "name": "stdout",
     "output_type": "stream",
     "text": [
      "CPU times: user 16.7 s, sys: 308 ms, total: 17.1 s\n",
      "Wall time: 17.3 s\n"
     ]
    }
   ],
   "source": [
    "%%time\n",
    "##  force the calculation:\n",
    "##     xarray uses lazy evaluation, avoiding crunching the numbers \n",
    "##     up to this point, I haven't actually done any calculations!\n",
    "##     xarray waits until I explicitly require it to do so\n",
    "##     best to do this ahead of plotting for big calculations\n",
    "##  Note that if you plan on reusing an intermediate result:\n",
    "##     e.g. annual averages, \n",
    "##     you should probably force the calc and save it at that step\n",
    "##  If you see files like core-casper25- appearing, you have an issue\n",
    "gpp_ann_glob = gpp_ann_glob.compute()"
   ]
  },
  {
   "cell_type": "code",
   "execution_count": 32,
   "metadata": {},
   "outputs": [
    {
     "data": {
      "image/png": "[encoded data removed]",
      "text/plain": [
       "<Figure size 432x288 with 1 Axes>"
      ]
     },
     "metadata": {
      "needs_background": "light"
     },
     "output_type": "display_data"
    }
   ],
   "source": [
    "t = np.unique(ds['time.year'])\n",
    "plt.plot(t,gpp_ann_glob,'.',color=[0.6,0.6,0.6])\n",
    "plt.xlabel('year')\n",
    "plt.ylabel('GPP (PgC)')\n",
    "plt.title('CESM2-LE (50 members)');"
   ]
  },
  {
   "cell_type": "markdown",
   "metadata": {},
   "source": [
    "### Slows down with lots of data..."
   ]
  },
  {
   "cell_type": "code",
   "execution_count": 59,
   "metadata": {},
   "outputs": [
    {
     "name": "stdout",
     "output_type": "stream",
     "text": [
      "CPU times: user 5.52 s, sys: 124 ms, total: 5.65 s\n",
      "Wall time: 6.24 s\n"
     ]
    }
   ],
   "source": [
    "%%time\n",
    "model = 'CESM2'\n",
    "ens = np.arange(10)     #read only the first 10 ensemble members\n",
    "fields = ['TBOT']  # always brackets, fields = ['GPP']\n",
    "firstyear = 1850\n",
    "lastyear  = 2100\n",
    "\n",
    "ds = get_monthly(model,ens,fields,firstyear,lastyear)"
   ]
  },
  {
   "cell_type": "code",
   "execution_count": 62,
   "metadata": {},
   "outputs": [
    {
     "name": "stdout",
     "output_type": "stream",
     "text": [
      "CPU times: user 19.9 s, sys: 35 s, total: 54.9 s\n",
      "Wall time: 1min 32s\n"
     ]
    }
   ],
   "source": [
    "%%time\n",
    "#this function is provided below\n",
    "tb_ann = aggregate_ann(ds.TBOT,'CESM2')"
   ]
  },
  {
   "cell_type": "code",
   "execution_count": 63,
   "metadata": {},
   "outputs": [
    {
     "name": "stdout",
     "output_type": "stream",
     "text": [
      "CPU times: user 4.85 s, sys: 34.2 s, total: 39 s\n",
      "Wall time: 51.3 s\n"
     ]
    }
   ],
   "source": [
    "%%time\n",
    "#this function is provided below\n",
    "tb_ann_glob = aggregate_glob(tb_ann,ds.landarea)"
   ]
  },
  {
   "cell_type": "code",
   "execution_count": 66,
   "metadata": {},
   "outputs": [
    {
     "data": {
      "image/png": "[encoded data removed]",
      "text/plain": [
       "<Figure size 432x288 with 1 Axes>"
      ]
     },
     "metadata": {
      "needs_background": "light"
     },
     "output_type": "display_data"
    }
   ],
   "source": [
    "t = tb_ann_glob.year\n",
    "plt.plot(t,tb_ann_glob,'.',color=[0.7,0.7,0.7])\n",
    "plt.title('global annual TBOT, first ten members')\n",
    "plt.ylabel('TBOT (K)')\n",
    "plt.xlabel('year');"
   ]
  },
  {
   "cell_type": "markdown",
   "metadata": {},
   "source": [
    "### Extra functions"
   ]
  },
  {
   "cell_type": "code",
   "execution_count": 24,
   "metadata": {},
   "outputs": [],
   "source": [
    "def get_landarea(model):\n",
    "    file= get_file(0,model,'GPP',1990)\n",
    "    ds = xr.open_dataset(file)\n",
    "    la = ds['area']*ds['landfrac']\n",
    "    return la"
   ]
  },
  {
   "cell_type": "code",
   "execution_count": 40,
   "metadata": {},
   "outputs": [],
   "source": [
    "def aggregate_ann(da,model,save=False):\n",
    "    field = da.name\n",
    "    cf1 = 24*60*60           # used to convert /s to /d\n",
    "    cf2 = 1/365              # d->yr\n",
    "    cf    = {'NEE':cf1,'NBP':cf1,'GPP':cf1,'COL_FIRE_CLOSS':cf1,'TBOT':cf2,'SW':cf2}\n",
    "    units = {'NEE':'gC/m2','NBP':'gC/m2','GPP':'gC/m2','COL_FIRE_CLOSS':'gC/m2','TBOT':'K','SW':'mmH2O'}\n",
    "    \n",
    "    nyears  = len(np.unique(da['time.year']))\n",
    "    dpm = month_wts(nyears) # days per month\n",
    "    \n",
    "    da_ann  = cf[field]*(dpm*da).groupby('time.year').sum(skipna=True).compute() # gridded annual mean or sum\n",
    "    da_ann.name = field\n",
    "    da_ann.attrs['units'] = units[field]\n",
    "    \n",
    "    if save:\n",
    "        da_ann.to_netcdf('/glade/work/djk2120/LENSdata/'+model+'_'+field+'_ann.nc')\n",
    "        \n",
    "    return da_ann"
   ]
  },
  {
   "cell_type": "code",
   "execution_count": 45,
   "metadata": {},
   "outputs": [],
   "source": [
    "def aggregate_glob(da,la):\n",
    "    field = da.name\n",
    "    cf1 = 1e6    #km2-->m2\n",
    "    cf2 = 1e-15  #gC-->PgC and kgH2O-->TtH2O\n",
    "    cfsum  = cf1*cf2\n",
    "    cfmean = 1/la.sum()\n",
    "    \n",
    "    cf    = {'NEE':cfsum,'NBP':cfsum,'GPP':cfsum,'COL_FIRE_CLOSS':cfsum,'TBOT':cfmean,'SW':cfsum}\n",
    "    units = {'NEE':'PgC','NBP':'PgC','GPP':'PgC','COL_FIRE_CLOSS':'PgC','TBOT':'K','SW':'TtH2O'}\n",
    "    \n",
    "    da_glob = cf[field]*(la*da).sum(dim=['lat','lon']).compute()\n",
    "    da_glob.name = field\n",
    "    da_glob.attrs['units'] = units[field]\n",
    "    return da_glob"
   ]
  },
  {
   "cell_type": "code",
   "execution_count": 26,
   "metadata": {},
   "outputs": [],
   "source": [
    "# colorbrewer colormap, diverging, brown->green\n",
    "ccc = np.zeros([11,3]);\n",
    "ccc[0,:] = 84,48,5\n",
    "ccc[1,:] = 140,81,10\n",
    "ccc[2,:] = 191,129,45\n",
    "ccc[3,:] = 223,194,125\n",
    "ccc[4,:] = 246,232,195\n",
    "ccc[5,:] = 245,245,245\n",
    "ccc[6,:] = 199,234,229\n",
    "ccc[7,:] = 128,205,193\n",
    "ccc[8,:] = 53,151,143\n",
    "ccc[9,:] = 1,102,94\n",
    "ccc[10,:] = 0,60,48\n",
    "ccc = matplotlib.colors.ListedColormap(ccc/256)"
   ]
  },
  {
   "cell_type": "code",
   "execution_count": 25,
   "metadata": {},
   "outputs": [],
   "source": [
    "def detrend_dim(da, dim, deg=1):\n",
    "    # detrend along a single dimension (h/t rabernat)\n",
    "    p = da.polyfit(dim=dim, deg=deg)\n",
    "    fit = xr.polyval(da[dim], p.polyfit_coefficients)\n",
    "    return da - fit"
   ]
  }
 ],
 "metadata": {
  "kernelspec": {
   "display_name": "Python [conda env:lens-py]",
   "language": "python",
   "name": "conda-env-lens-py-py"
  },
  "language_info": {
   "codemirror_mode": {
    "name": "ipython",
    "version": 3
   },
   "file_extension": ".py",
   "mimetype": "text/x-python",
   "name": "python",
   "nbconvert_exporter": "python",
   "pygments_lexer": "ipython3",
   "version": "3.7.9"
  }
 },
 "nbformat": 4,
 "nbformat_minor": 4
}
