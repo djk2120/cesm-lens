{
 "cells": [
  {
   "cell_type": "markdown",
   "metadata": {},
   "source": [
    "# CESM-LE analysis template\n",
    " - analysis should be performed on Casper\n",
    " - works with historical and SSP\n",
    "     - monthly data functionality for CESM1\n",
    "     - 3hrly, daily, monthly for CESM2\n",
    " - currently configured for lnd output\n",
    "     - make mods to file_dict() to support atm, etc.\n",
    "         - change the 'lnd' str\n",
    "         - make sure the correct tapes are reference for different output streams\n",
    " - daniel kennedy, djk2120@ucar.edu"
   ]
  },
  {
   "cell_type": "code",
   "execution_count": 24,
   "metadata": {},
   "outputs": [],
   "source": [
    "import numpy as np\n",
    "import xarray as xr\n",
    "import glob\n",
    "import matplotlib\n",
    "import matplotlib.pyplot as plt\n",
    "import cftime\n",
    "import dask\n",
    "import os\n",
    "from scipy import stats\n",
    "%matplotlib inline"
   ]
  },
  {
   "cell_type": "code",
   "execution_count": 25,
   "metadata": {},
   "outputs": [
    {
     "data": {
      "text/plain": [
       "'0.16.2'"
      ]
     },
     "execution_count": 25,
     "metadata": {},
     "output_type": "execute_result"
    }
   ],
   "source": [
    "## was working with 16.2\n",
    "xr.__version__"
   ]
  },
  {
   "cell_type": "code",
   "execution_count": 26,
   "metadata": {},
   "outputs": [
    {
     "data": {
      "text/plain": [
       "'2020.12.0'"
      ]
     },
     "execution_count": 26,
     "metadata": {},
     "output_type": "execute_result"
    }
   ],
   "source": [
    "## was working with 2020.12.0\n",
    "dask.__version__"
   ]
  },
  {
   "cell_type": "markdown",
   "metadata": {},
   "source": [
    "### run this cell to check if you have LENS2 read access:"
   ]
  },
  {
   "cell_type": "code",
   "execution_count": 27,
   "metadata": {},
   "outputs": [
    {
     "name": "stdout",
     "output_type": "stream",
     "text": [
      "looks good\n"
     ]
    }
   ],
   "source": [
    "samplefile = ('/glade/campaign/cgd/cesm/CESM2-LE/timeseries/lnd/proc/tseries/month_1/NBP/'+\n",
    "              'b.e21.BHISTcmip6.f09_g17.LE2-1001.001.clm2.h0.NBP.199001-199912.nc')\n",
    "cmd = 'stat '+samplefile\n",
    "if os.system(cmd)!=0:\n",
    "    print('you may not have access')\n",
    "else:\n",
    "    print('looks good')"
   ]
  },
  {
   "cell_type": "markdown",
   "metadata": {},
   "source": [
    "### Fetch cluster"
   ]
  },
  {
   "cell_type": "code",
   "execution_count": 6,
   "metadata": {},
   "outputs": [
    {
     "name": "stderr",
     "output_type": "stream",
     "text": [
      "/glade/work/djk2120/miniconda3/envs/lens-py/lib/python3.7/site-packages/distributed/node.py:155: UserWarning: Port 8787 is already in use.\n",
      "Perhaps you already have a cluster running?\n",
      "Hosting the HTTP server on port 36885 instead\n",
      "  http_address[\"port\"], self.http_server.port\n"
     ]
    }
   ],
   "source": [
    "#for use on Casper: ONLY RUN THIS CELL ONCE  \n",
    "#   note you may need to change the project number\n",
    "ncores = 36\n",
    "nmem   = str(int(375*ncores/36))+'GB'\n",
    "from dask_jobqueue import PBSCluster\n",
    "from dask.distributed import Client\n",
    "cluster = PBSCluster(\n",
    "    cores=ncores, # The number of cores you want\n",
    "    memory=nmem, # Amount of memory\n",
    "    processes=ncores, # How many processes\n",
    "    queue='casper', # The type of queue to utilize (/glade/u/apps/dav/opt/usr/bin/execcasper)\n",
    "    resource_spec='select=1:ncpus='+str(ncores)+':mem='+nmem, # Specify resources\n",
    "    project='P93300641', # Input your project ID here\n",
    "    walltime='3:00:00', # Amount of wall time\n",
    "    interface='ib0', # Interface to use\n",
    ")\n",
    "cluster.scale(ncores)\n",
    "client = Client(cluster)"
   ]
  },
  {
   "cell_type": "code",
   "execution_count": 10,
   "metadata": {},
   "outputs": [
    {
     "data": {
      "text/html": [
       "<table style=\"border: 2px solid white;\">\n",
       "<tr>\n",
       "<td style=\"vertical-align: top; border: 0px solid white\">\n",
       "<h3 style=\"text-align: left;\">Client</h3>\n",
       "<ul style=\"text-align: left; list-style: none; margin: 0; padding: 0;\">\n",
       "  <li><b>Scheduler: </b>tcp://10.12.1.3:46658</li>\n",
       "  <li><b>Dashboard: </b><a href='https://jupyterhub.hpc.ucar.edu/stable/user/djk2120/proxy/{port}/status' target='_blank'>https://jupyterhub.hpc.ucar.edu/stable/user/djk2120/proxy/{port}/status</a></li>\n",
       "</ul>\n",
       "</td>\n",
       "<td style=\"vertical-align: top; border: 0px solid white\">\n",
       "<h3 style=\"text-align: left;\">Cluster</h3>\n",
       "<ul style=\"text-align: left; list-style:none; margin: 0; padding: 0;\">\n",
       "  <li><b>Workers: </b>0</li>\n",
       "  <li><b>Cores: </b>0</li>\n",
       "  <li><b>Memory: </b>0 B</li>\n",
       "</ul>\n",
       "</td>\n",
       "</tr>\n",
       "</table>"
      ],
      "text/plain": [
       "<Client: 'tcp://10.12.1.3:46658' processes=0 threads=0, memory=0 B>"
      ]
     },
     "execution_count": 10,
     "metadata": {},
     "output_type": "execute_result"
    }
   ],
   "source": [
    "# the extra workers can get stuck in the queue\n",
    "#   stay here (rerunning cell) until you see that the workers>0\n",
    "client"
   ]
  },
  {
   "cell_type": "markdown",
   "metadata": {},
   "source": [
    "### Data I/O functions:\n",
    " - you should run each of these cells and then proceed to START HERE\n",
    " - you should not need to edit these function\n",
    " - (unless you want to add some missing functionality)"
   ]
  },
  {
   "cell_type": "code",
   "execution_count": 19,
   "metadata": {},
   "outputs": [],
   "source": [
    "def get_members(model):\n",
    "    members = []\n",
    "    if model =='CESM1':\n",
    "        members = [str(i).zfill(3) for i in [*(1+np.arange(35)),*(101+np.arange(7))]]\n",
    "    else:\n",
    "        for i,j in zip(1001+20*np.arange(10),1+np.arange(10)):\n",
    "            s = 'LE2-'+str(i)+'.'+str(j).zfill(3)\n",
    "            members.append(s)\n",
    "        for i in [1231,1251,1281,1301]:\n",
    "            for j in 1+np.arange(10):\n",
    "                s = 'LE2-'+str(i)+'.'+str(j).zfill(3)\n",
    "                members.append(s)\n",
    "    return members"
   ]
  },
  {
   "cell_type": "code",
   "execution_count": 31,
   "metadata": {},
   "outputs": [],
   "source": [
    "htapes = {}\n",
    "htapes['lnd'] = {'month_1':'.h0.','day_1':'.h5.','hour_3':'.h7.'}\n",
    "htapes['atm'] = {'day_1':'.h0.'}"
   ]
  },
  {
   "cell_type": "code",
   "execution_count": 44,
   "metadata": {},
   "outputs": [],
   "source": [
    "## Updated for new directory structure of LENS2\n",
    "def file_dict(model,mem,field,hist=True,freq='monthly',component='lnd'):\n",
    "    ''' returns a dictionary of filepaths keyed by year, for a given ensemble member/field '''\n",
    "    mm = get_members(model)[mem]\n",
    "    filepaths = {}\n",
    "    \n",
    "    #detailing the directory structure\n",
    "    if model=='CESM1':\n",
    "        topdir = '/glade/collections/cdg/data/cesmLE/CESM-CAM5-BGC-LE/'+component+'/proc/tseries/'\n",
    "        if hist: runtype = 'b.e11.B20TRC5CNBDRD.f09_g16.'\n",
    "        else:    runtype = 'b.e11.BRCP85C5CNBDRD.f09_g16.'\n",
    "    else:\n",
    "        topdir  = '/glade/campaign/cgd/cesm/CESM2-LE/timeseries/'+component+'/proc/tseries/'\n",
    "        if hist: runtype = 'b.e21.BHISTcmip6.f09_g17.'\n",
    "        else:    runtype = 'b.e21.BSSP370cmip6.f09_g17.'\n",
    "        \n",
    "    #check htape dictionary\n",
    "    if freq in htapes[component]:\n",
    "        tape = htapes[component][freq]\n",
    "    else:\n",
    "        raise ValueError('ERROR: \\''+freq+'\\' freq not supported for '+model)\n",
    "    thisdir = topdir+freq+'/'+field+'/'\n",
    "\n",
    "    #find all the relevant files\n",
    "    files = glob.glob(thisdir+runtype+'*'+tape+field+'*')\n",
    "   \n",
    "    #create a dictionary mapping yr-->filepath\n",
    "    for file in files:\n",
    "        #isolate y1 and y2 from the file name\n",
    "        ystr = file.split(field)[-1]\n",
    "        y1 = int(ystr[1:5])\n",
    "        ystr = ystr.split('-')[1]\n",
    "        y2 = int(ystr[0:4])\n",
    "        for yy in np.arange(y1,y2+1):\n",
    "            filepaths[yy]=file\n",
    "       \n",
    "    return filepaths"
   ]
  },
  {
   "cell_type": "code",
   "execution_count": 13,
   "metadata": {},
   "outputs": [],
   "source": [
    "def get_file(model,mem,field,year,freq='monthly'):\n",
    "    ''' get a single file for the given model-mem-field-year'''\n",
    "    hist = True\n",
    "    if model=='CESM1' and year>2005: hist=False\n",
    "    if model=='CESM2' and year>2014: hist=False\n",
    "\n",
    "    filepaths = file_dict(model,mem,field,hist,freq)\n",
    "    if year in filepaths.keys():\n",
    "        file = filepaths[year]\n",
    "    else:\n",
    "        print('file not found for that member')\n",
    "        file = []\n",
    "    \n",
    "    return file"
   ]
  },
  {
   "cell_type": "code",
   "execution_count": 14,
   "metadata": {},
   "outputs": [],
   "source": [
    "def all_files(model,ens,field,firstyear,lastyear,freq='monthly'):\n",
    "    ''' retrieve a list of files containing the given ensemble'''\n",
    "    ens = np.array(ens)\n",
    "    yrs = np.arange(firstyear,lastyear+1)\n",
    "    files = []    # a list of lists, dim0=ens, dim1=time\n",
    "    ix = np.zeros(ens.shape)+1\n",
    "    \n",
    "    for ee,i in zip(ens,range(len(ens))):\n",
    "        ffs = []  # a list of files for this ee\n",
    "        file0 = ''\n",
    "        first = True\n",
    "        for yr in yrs:\n",
    "            #fetch filepaths\n",
    "            if first:\n",
    "                hist = True\n",
    "                if model=='CESM1' and yr>2005: hist=False\n",
    "                if model=='CESM2' and yr>2014: hist=False\n",
    "                filepaths = file_dict(model,ee,field,hist,freq)\n",
    "                first     = False  \n",
    "            #append file if it is new\n",
    "            if yr in filepaths.keys():\n",
    "                file = filepaths[yr]\n",
    "                if file != file0:\n",
    "                    ffs.append(file)\n",
    "                    file0 = file\n",
    "\n",
    "            #trigger new filepaths fetch when needed\n",
    "            if model=='CESM1' and yr==2005: first=True\n",
    "            if model=='CESM2' and yr==2014: first=True\n",
    "\n",
    "        \n",
    "        #append this ensemble member to files\n",
    "        if ffs:  #only append if you found files\n",
    "            files.append(ffs)\n",
    "        else:\n",
    "            ix[i] = 0\n",
    "    return files,ens[ix==1]"
   ]
  },
  {
   "cell_type": "code",
   "execution_count": 23,
   "metadata": {},
   "outputs": [],
   "source": [
    "def get_data(model,ens,fields,firstyear,lastyear,freq,chunks={'time':360}):\n",
    "    ''' returns an xarray dataset containing the requested ensemble\n",
    "    model = \\'CESM1\\' or \\'CESM2\\'\n",
    "    ens   = list of members, via simple sequential key e.g. range(50) gets the first 50 members\n",
    "            [0,2,4] would get the first, third, and fifth ensemble members (see get_members)\n",
    "    fields = list of desired fields, you do not need to ask for lat/lon/time\n",
    "    firstyear = int [1850-2100]\n",
    "    lastyear  = int [1850-2100]\n",
    "    freq = \\'monthly\\' or \\'daily\\' or \\'3hr\\' '''\n",
    "\n",
    "    ds = xr.Dataset()    #instantiate Dataset\n",
    "\n",
    "    #allow for single field or list of fields\n",
    "    if type(fields)==str: fields=[fields]  \n",
    "    \n",
    "    #add fields one at a time to the dataset\n",
    "    for field in fields:\n",
    "        files,ens = all_files(model,ens,field,firstyear,lastyear,freq)\n",
    "        ensdim  = xr.DataArray(ens, dims='ens', name='ens')\n",
    "        dims    = [ensdim,'time']\n",
    "        # check if all members have the same number of files (not guaranteed)\n",
    "        nfs = np.array([len(ffs) for ffs in files])\n",
    "        if np.sum(nfs==nfs[0])==len(nfs):\n",
    "            one_go=True   # same number of files\n",
    "        else:\n",
    "            one_go=False\n",
    "        if one_go: #read all data in one go\n",
    "            tmp = xr.open_mfdataset(files,combine='nested',parallel=True,\n",
    "                                    concat_dim=dims,chunks=chunks)\n",
    "        else:      #read data one member at a time and then concat\n",
    "            dsets = []\n",
    "            for ffs in files:\n",
    "                d0 = xr.open_mfdataset(ffs,combine='nested',parallel=True,\n",
    "                                    concat_dim=['time'],chunks=chunks)\n",
    "                dsets.append(d0)\n",
    "            tmp = xr.concat(dsets,dim=ensdim)\n",
    "        ds[field] = tmp[field]\n",
    "\n",
    "    #grab one copy of the various extra variables, e.g. landfrac,area\n",
    "    tmp = xr.open_dataset(files[0][0])\n",
    "    for thisvar in tmp.data_vars:\n",
    "        if 'time' not in tmp[thisvar].coords:\n",
    "            ds[thisvar]=tmp[thisvar]\n",
    "\n",
    "    # quick fix to adjust time vector for monthly data        \n",
    "    if freq=='monthly':\n",
    "        nmonths = len(ds.time)\n",
    "        yr0 = ds['time.year'][0].values\n",
    "        ds['time'] =xr.cftime_range(str(yr0),periods=nmonths,freq='MS')\n",
    "\n",
    "    return ds.sel(time=slice(str(firstyear),str(lastyear)))"
   ]
  },
  {
   "cell_type": "code",
   "execution_count": 16,
   "metadata": {},
   "outputs": [],
   "source": [
    "def get_landarea(model):\n",
    "    file= get_file(model,0,'GPP',1990)\n",
    "    ds = xr.open_dataset(file)\n",
    "    la = ds['area']*ds['landfrac']\n",
    "    return la"
   ]
  },
  {
   "cell_type": "code",
   "execution_count": 17,
   "metadata": {},
   "outputs": [],
   "source": [
    "def month_wts(nyears):\n",
    "    days_pm  = [31,28,31,30,31,30,31,31,30,31,30,31]\n",
    "    return xr.DataArray(np.tile(days_pm,nyears),dims='time')"
   ]
  },
  {
   "cell_type": "markdown",
   "metadata": {},
   "source": [
    "# Start editing here:\n",
    " - note: you don't have to %%time things\n",
    "     - just wanted to give a sense of how long various steps take for me"
   ]
  },
  {
   "cell_type": "markdown",
   "metadata": {},
   "source": [
    "### a lot of data if you take the full dataset, even for just a couple variables"
   ]
  },
  {
   "cell_type": "code",
   "execution_count": 60,
   "metadata": {},
   "outputs": [
    {
     "name": "stdout",
     "output_type": "stream",
     "text": [
      "CPU times: user 45.4 s, sys: 2.24 s, total: 47.6 s\n",
      "Wall time: 1min 2s\n"
     ]
    },
    {
     "data": {
      "text/plain": [
       "66.660018108"
      ]
     },
     "execution_count": 60,
     "metadata": {},
     "output_type": "execute_result"
    }
   ],
   "source": [
    "%%time\n",
    "model = 'CESM2'\n",
    "ens = range(50)\n",
    "fields = ['NBP','TWS']\n",
    "firstyear = 1850\n",
    "lastyear  = 2100\n",
    "freq      = 'monthly'\n",
    "ds = get_data(model,ens,fields,firstyear,lastyear,freq)\n",
    "ds.nbytes/1e9 #GB"
   ]
  },
  {
   "cell_type": "markdown",
   "metadata": {},
   "source": [
    "### can also get daily data, only working for CESM2 as of now\n",
    " - available fields listed at the bottom of notebook \n",
    " - first 10 ensemble members don't have daily GPP, etc."
   ]
  },
  {
   "cell_type": "code",
   "execution_count": 84,
   "metadata": {},
   "outputs": [
    {
     "name": "stdout",
     "output_type": "stream",
     "text": [
      "CPU times: user 2.28 s, sys: 144 ms, total: 2.43 s\n",
      "Wall time: 3.62 s\n"
     ]
    },
    {
     "data": {
      "text/plain": [
       "64.587528912"
      ]
     },
     "execution_count": 84,
     "metadata": {},
     "output_type": "execute_result"
    }
   ],
   "source": [
    "%%time\n",
    "model = 'CESM2'\n",
    "ens = 10+np.arange(40)\n",
    "fields = ['NBP','TWS']\n",
    "firstyear = 1990\n",
    "lastyear  = 1999\n",
    "freq      = 'daily'\n",
    "ds = get_data(model,ens,fields,firstyear,lastyear,freq)\n",
    "ds.nbytes/1e9 #GB"
   ]
  },
  {
   "cell_type": "markdown",
   "metadata": {},
   "source": [
    "### short example analysis"
   ]
  },
  {
   "cell_type": "code",
   "execution_count": 92,
   "metadata": {},
   "outputs": [
    {
     "name": "stdout",
     "output_type": "stream",
     "text": [
      "Help on function get_data in module __main__:\n",
      "\n",
      "get_data(model, ens, fields, firstyear, lastyear, freq)\n",
      "    returns an xarray dataset containing the requested ensemble\n",
      "    model = 'CESM1' or 'CESM2'\n",
      "    ens   = list of members, via simple sequential key e.g. range(50) gets the first 50 members\n",
      "            [0,2,4] would get the first, third, and fifth ensemble members (see get_members)\n",
      "    fields = list of desired fields, you do not need to ask for lat/lon/time\n",
      "    firstyear = int [1850-2100]\n",
      "    lastyear  = int [1850-2100]\n",
      "    freq = 'monthly' or 'daily'\n",
      "\n"
     ]
    }
   ],
   "source": [
    "help(get_data)"
   ]
  },
  {
   "cell_type": "markdown",
   "metadata": {},
   "source": [
    "### read in the data"
   ]
  },
  {
   "cell_type": "code",
   "execution_count": 100,
   "metadata": {},
   "outputs": [
    {
     "name": "stdout",
     "output_type": "stream",
     "text": [
      "CPU times: user 9 s, sys: 908 ms, total: 9.91 s\n",
      "Wall time: 11.9 s\n"
     ]
    }
   ],
   "source": [
    "%%time\n",
    "model = 'CESM2'\n",
    "ens = range(50)\n",
    "fields = ['GPP','TWS']\n",
    "firstyear = 1985\n",
    "lastyear  = 2014\n",
    "freq      = 'monthly'\n",
    "ds = get_data(model,ens,fields,firstyear,lastyear,freq)"
   ]
  },
  {
   "cell_type": "markdown",
   "metadata": {},
   "source": [
    "### analysis..."
   ]
  },
  {
   "cell_type": "code",
   "execution_count": 123,
   "metadata": {},
   "outputs": [],
   "source": [
    "#compute annual total GPP\n",
    "nyears  = len(np.unique(ds['time.year']))\n",
    "cf = 24*60*60           # used to convert /s to /d\n",
    "dpm = month_wts(nyears) # days per month, function defined above\n",
    "gpp_ann = cf*(dpm*ds.GPP).groupby('time.year').sum(skipna=True) # gridded annual total gpp"
   ]
  },
  {
   "cell_type": "code",
   "execution_count": 105,
   "metadata": {},
   "outputs": [
    {
     "data": {
      "image/png": "[encoded data removed]",
      "text/plain": [
       "<Figure size 432x288 with 2 Axes>"
      ]
     },
     "metadata": {
      "needs_background": "light"
     },
     "output_type": "display_data"
    }
   ],
   "source": [
    "# plot one year from one ensemble member\n",
    "#   where statement masks the ocean\n",
    "#   cbar_kwargs ... colorbar keyword arguments\n",
    "la = get_landarea('CESM2')\n",
    "gpp_ann.sel(ens=0,year=2000).where(la>0).plot(cbar_kwargs={'label':'GPP (gC/m2/yr)'},robust=True);"
   ]
  },
  {
   "cell_type": "code",
   "execution_count": 120,
   "metadata": {},
   "outputs": [],
   "source": [
    "# sum across gridcells, weighting by landarea\n",
    "cf1 = 1e6    #km2-->m2\n",
    "cf2 = 1e-15  #gC-->PgC\n",
    "gpp_ann_glob = cf1*cf2*(la*gpp_ann).sum(skipna=True,dim=['lat','lon'])"
   ]
  },
  {
   "cell_type": "code",
   "execution_count": 118,
   "metadata": {},
   "outputs": [
    {
     "name": "stdout",
     "output_type": "stream",
     "text": [
      "CPU times: user 5.95 s, sys: 132 ms, total: 6.08 s\n",
      "Wall time: 7.54 s\n"
     ]
    }
   ],
   "source": [
    "%%time\n",
    "##  force the calculation:\n",
    "##     xarray uses lazy evaluation, avoiding crunching the numbers \n",
    "##     up to this point, I haven't actually done any calculations!\n",
    "##     xarray waits until I explicitly require it to do so\n",
    "##     best to do this separate from plotting for big calculations\n",
    "##  Note that if you plan on reusing an intermediate result:\n",
    "##     e.g. annual averages, \n",
    "##     you should probably force the calc and save it at that step\n",
    "##  If you see files like core-casper25- appearing, you have an issue\n",
    "gpp_ann_glob = gpp_ann_glob.compute()"
   ]
  },
  {
   "cell_type": "code",
   "execution_count": 119,
   "metadata": {},
   "outputs": [
    {
     "data": {
      "image/png": "[encoded data removed]",
      "text/plain": [
       "<Figure size 432x288 with 1 Axes>"
      ]
     },
     "metadata": {
      "needs_background": "light"
     },
     "output_type": "display_data"
    }
   ],
   "source": [
    "t = np.unique(ds['time.year'])\n",
    "plt.plot(t,gpp_ann_glob,'.',color=[0.6,0.6,0.6])\n",
    "plt.xlabel('year')\n",
    "plt.ylabel('GPP (PgC)')\n",
    "plt.title('CESM2-LE (50 members)');"
   ]
  },
  {
   "cell_type": "markdown",
   "metadata": {},
   "source": [
    "### Extra functions"
   ]
  },
  {
   "cell_type": "code",
   "execution_count": 26,
   "metadata": {},
   "outputs": [],
   "source": [
    "# colorbrewer colormap, diverging, brown->green\n",
    "ccc = np.zeros([11,3]);\n",
    "ccc[0,:] = 84,48,5\n",
    "ccc[1,:] = 140,81,10\n",
    "ccc[2,:] = 191,129,45\n",
    "ccc[3,:] = 223,194,125\n",
    "ccc[4,:] = 246,232,195\n",
    "ccc[5,:] = 245,245,245\n",
    "ccc[6,:] = 199,234,229\n",
    "ccc[7,:] = 128,205,193\n",
    "ccc[8,:] = 53,151,143\n",
    "ccc[9,:] = 1,102,94\n",
    "ccc[10,:] = 0,60,48\n",
    "ccc = matplotlib.colors.ListedColormap(ccc/256)"
   ]
  },
  {
   "cell_type": "code",
   "execution_count": 25,
   "metadata": {},
   "outputs": [],
   "source": [
    "def detrend_dim(da, dim, deg=1):\n",
    "    # detrend along a single dimension (h/t rabernat)\n",
    "    p = da.polyfit(dim=dim, deg=deg)\n",
    "    fit = xr.polyval(da[dim], p.polyfit_coefficients)\n",
    "    return da - fit"
   ]
  },
  {
   "cell_type": "code",
   "execution_count": 82,
   "metadata": {},
   "outputs": [
    {
     "name": "stdout",
     "output_type": "stream",
     "text": [
      "ALT\n",
      "AR\n",
      "EFLX_GRND_LAKE\n",
      "EFLX_LH_TOT\n",
      "FAREA_BURNED\n",
      "FGR12\n",
      "FGR\n",
      "FIRA\n",
      "FIRE\n",
      "FLDS\n",
      "FSA\n",
      "FSDS\n",
      "FSDSND\n",
      "FSDSNI\n",
      "FSDSVD\n",
      "FSDSVI\n",
      "FSH\n",
      "FSM\n",
      "FSNO\n",
      "GPP\n",
      "H2OCAN\n",
      "H2OSFC\n",
      "H2OSNO\n",
      "HR\n",
      "JCONVECT\n",
      "LAKEICETHICK\n",
      "NBP\n",
      "NEP\n",
      "NFIRE\n",
      "NPP\n",
      "QDRAI\n",
      "QDRAI_PERCH\n",
      "QFLX_SNOW_DRAIN\n",
      "QFLX_SUB_SNOW\n",
      "QINTR\n",
      "QOVER\n",
      "QRGWL\n",
      "QRUNOFF\n",
      "QSNOEVAP\n",
      "QSNOFRZ\n",
      "QSOIL\n",
      "QVEGE\n",
      "QVEGT\n",
      "RAIN\n",
      "SABG\n",
      "SNOBCMSL\n",
      "SNOCAN\n",
      "SNOFSRND\n",
      "SNOFSRNI\n",
      "SNOFSRVD\n",
      "SNOFSRVI\n",
      "SNOTXMASS\n",
      "SNOW\n",
      "SNOWDP\n",
      "SNOWICE\n",
      "SNOWLIQ\n",
      "SOILICE\n",
      "SOILLIQ\n",
      "SOILWATER_10CM\n",
      "TAUX\n",
      "TAUY\n",
      "TG\n",
      "TKE1\n",
      "TLAI\n",
      "TLAKE\n",
      "TOTSOILICE\n",
      "TOTSOILLIQ\n",
      "TSKIN\n",
      "TSOI\n",
      "TV\n",
      "TWS\n",
      "UST_LAKE\n"
     ]
    }
   ],
   "source": [
    "#list of daily variables\n",
    "thedir = '/glade/campaign/cesm/collections/CESM2-LE/archive/b.e21.BHISTcmip6.f09_g17.LE2-1231.001/lnd/proc/tseries/day_1/'\n",
    "files = os.popen('ls '+thedir+'*h5*1850*').read().split('\\n')[:-1]\n",
    "for file in files:\n",
    "    str1 = file.split('.h5.')[1]\n",
    "    str2 = str1.split('.')[0]\n",
    "    print(str2)"
   ]
  },
  {
   "cell_type": "code",
   "execution_count": null,
   "metadata": {},
   "outputs": [],
   "source": []
  }
 ],
 "metadata": {
  "kernelspec": {
   "display_name": "Python [conda env:lens-py]",
   "language": "python",
   "name": "conda-env-lens-py-py"
  },
  "language_info": {
   "codemirror_mode": {
    "name": "ipython",
    "version": 3
   },
   "file_extension": ".py",
   "mimetype": "text/x-python",
   "name": "python",
   "nbconvert_exporter": "python",
   "pygments_lexer": "ipython3",
   "version": "3.7.9"
  }
 },
 "nbformat": 4,
 "nbformat_minor": 4
}
